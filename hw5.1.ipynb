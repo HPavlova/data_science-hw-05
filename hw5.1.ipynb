{
 "cells": [
  {
   "cell_type": "markdown",
   "id": "b8d5165c",
   "metadata": {},
   "source": [
    "### Task 1\n",
    "#### Для прямоугольной области площадью 1000 м2, примыкающей к прямому участку реки, необходимо построить ограду (причем со стороны реки ограду строить не нужно). При каких размерах области a, b длина ограды будет минимальной? Используйте функцию minimize с параметрами ограничениями bounds и constraints"
   ]
  },
  {
   "cell_type": "code",
   "execution_count": 46,
   "id": "5822153d",
   "metadata": {},
   "outputs": [],
   "source": [
    "import numpy as np\n",
    "from scipy.optimize import minimize\n",
    "from matplotlib import figure\n",
    "import matplotlib.pyplot as plt"
   ]
  },
  {
   "cell_type": "code",
   "execution_count": 49,
   "id": "fff6b774",
   "metadata": {},
   "outputs": [],
   "source": [
    "def P(args):\n",
    "    a,b = args\n",
    "    return 2*a+b"
   ]
  },
  {
   "cell_type": "code",
   "execution_count": 50,
   "id": "987d0f53",
   "metadata": {},
   "outputs": [
    {
     "data": {
      "text/plain": [
       "     fun: 89.44271919981466\n",
       "     jac: array([2., 1.])\n",
       " message: 'Optimization terminated successfully'\n",
       "    nfev: 36\n",
       "     nit: 12\n",
       "    njev: 12\n",
       "  status: 0\n",
       " success: True\n",
       "       x: array([22.35957402, 44.72357116])"
      ]
     },
     "execution_count": 50,
     "metadata": {},
     "output_type": "execute_result"
    }
   ],
   "source": [
    "bounds =((0,None),(0,None))\n",
    "constraints = ({'type':'eq', 'fun': lambda x: x[0]*x[1]-1000})\n",
    "result = minimize(P, (0, 100), bounds=bounds, constraints=constraints)\n",
    "result"
   ]
  },
  {
   "cell_type": "code",
   "execution_count": 62,
   "id": "f0d764eb",
   "metadata": {},
   "outputs": [
    {
     "name": "stdout",
     "output_type": "stream",
     "text": [
      "Длина ограды минимальна 89.4 при размерах коротких сторон по 22.4 и длинной стороны 44.7\n"
     ]
    }
   ],
   "source": [
    "print(f'Длина ограды минимальна {round(result.fun, 1)} при размерах коротких сторон по {round(result.x[0], 1)} и длинной стороны {round(result.x[1], 1)}')"
   ]
  },
  {
   "cell_type": "code",
   "execution_count": null,
   "id": "da9e283a",
   "metadata": {},
   "outputs": [],
   "source": []
  }
 ],
 "metadata": {
  "kernelspec": {
   "display_name": "Python 3 (ipykernel)",
   "language": "python",
   "name": "python3"
  },
  "language_info": {
   "codemirror_mode": {
    "name": "ipython",
    "version": 3
   },
   "file_extension": ".py",
   "mimetype": "text/x-python",
   "name": "python",
   "nbconvert_exporter": "python",
   "pygments_lexer": "ipython3",
   "version": "3.10.4 (v3.10.4:9d38120e33, Mar 23 2022, 17:29:05) [Clang 13.0.0 (clang-1300.0.29.30)]"
  },
  "vscode": {
   "interpreter": {
    "hash": "aee8b7b246df8f9039afb4144a1f6fd8d2ca17a180786b69acc140d282b71a49"
   }
  }
 },
 "nbformat": 4,
 "nbformat_minor": 5
}
